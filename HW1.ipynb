{
 "cells": [
  {
   "cell_type": "code",
   "execution_count": 1,
   "id": "99872814",
   "metadata": {},
   "outputs": [
    {
     "name": "stdout",
     "output_type": "stream",
     "text": [
      "Введите первое число: 225\n",
      "Введите второе число: 25\n",
      "Введите арифметический знак: /\n",
      "9.0\n"
     ]
    }
   ],
   "source": [
    "def calculation():\n",
    "    a = float(input('Введите первое число: '))\n",
    "    b = float(input('Введите второе число: '))\n",
    "    sign = input('Введите арифметический знак: ')\n",
    "    match sign:\n",
    "        case '+':\n",
    "            return a+b\n",
    "        case '-':\n",
    "            return  a-b\n",
    "        case '*':\n",
    "            return a*b\n",
    "        case '/':\n",
    "            return a/b\n",
    "        case _:\n",
    "            return 'Не знаю такого знака!'\n",
    "\n",
    "print(calculation())"
   ]
  },
  {
   "cell_type": "code",
   "execution_count": 2,
   "id": "87edabeb",
   "metadata": {},
   "outputs": [
    {
     "name": "stdout",
     "output_type": "stream",
     "text": [
      "0:2:46:40\n"
     ]
    }
   ],
   "source": [
    "seconds = 10000\n",
    "days = seconds // (60*60*24)\n",
    "seconds %= 24*3600\n",
    "hours = seconds // (60*60)\n",
    "seconds %= 3600\n",
    "minutes = seconds // 60\n",
    "seconds %= 60\n",
    "print(str(days) + ':' + str(hours) + ':' + str(minutes) + ':' + str(seconds))"
   ]
  },
  {
   "cell_type": "code",
   "execution_count": 3,
   "id": "c563d157",
   "metadata": {},
   "outputs": [
    {
     "name": "stdout",
     "output_type": "stream",
     "text": [
      "The first str is...hello\n",
      "The second str is...world\n",
      "the first + the second is... hello$world\n",
      "hello$world\n"
     ]
    }
   ],
   "source": [
    "str_1 = input('The first str is...')\n",
    "str_2 = input('The second str is...')\n",
    "print('the first + the second is... ' + str_1+'$'+str_2)\n",
    "print(str_1,str_2, sep='$')"
   ]
  },
  {
   "cell_type": "code",
   "execution_count": 5,
   "id": "2615579f",
   "metadata": {},
   "outputs": [
    {
     "name": "stdout",
     "output_type": "stream",
     "text": [
      "What's your name and how old are u?Alina, 22\n",
      "Happy birthday, Alina! \n",
      "Happy birthday, Alina! \n",
      "Happy birthday, Alina! \n",
      "Happy birthday, Alina! \n",
      "Happy birthday, Alina! \n",
      "Happy birthday, Alina! \n",
      "Happy birthday, Alina! \n",
      "Happy birthday, Alina! \n",
      "Happy birthday, Alina! \n",
      "Happy birthday, Alina! \n",
      "Happy birthday, Alina! \n",
      "Happy birthday, Alina! \n",
      "Happy birthday, Alina! \n",
      "Happy birthday, Alina! \n",
      "Happy birthday, Alina! \n",
      "Happy birthday, Alina! \n",
      "Happy birthday, Alina! \n",
      "Happy birthday, Alina! \n",
      "Happy birthday, Alina! \n",
      "Happy birthday, Alina! \n",
      "Happy birthday, Alina! \n",
      "Happy birthday, Alina! \n",
      "\n"
     ]
    }
   ],
   "source": [
    "name, age = input('What\\'s your name and how old are u?').split(',')\n",
    "print(('Happy birthday, '+ name + '! \\n')*int(age))"
   ]
  },
  {
   "cell_type": "code",
   "execution_count": null,
   "id": "8895b548",
   "metadata": {},
   "outputs": [],
   "source": []
  }
 ],
 "metadata": {
  "kernelspec": {
   "display_name": "Python 3 (ipykernel)",
   "language": "python",
   "name": "python3"
  },
  "language_info": {
   "codemirror_mode": {
    "name": "ipython",
    "version": 3
   },
   "file_extension": ".py",
   "mimetype": "text/x-python",
   "name": "python",
   "nbconvert_exporter": "python",
   "pygments_lexer": "ipython3",
   "version": "3.10.4"
  }
 },
 "nbformat": 4,
 "nbformat_minor": 5
}
