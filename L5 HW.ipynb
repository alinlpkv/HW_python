{
 "cells": [
  {
   "cell_type": "code",
   "execution_count": 3,
   "id": "47dbc809",
   "metadata": {},
   "outputs": [
    {
     "name": "stdout",
     "output_type": "stream",
     "text": [
      "Средняя оценка =  3.2\n",
      "['Петров И.', 'Дмитриев Н.', 'Котов Д.', 'Бирюкова Н.', 'Данилов П.', 'Лемонов Ю.']\n"
     ]
    }
   ],
   "source": [
    "# Задача 1\n",
    "import os\n",
    "from statistics import mean\n",
    "\n",
    "path = os.path.expanduser(\"~/Desktop/Ex1.txt\")\n",
    "\n",
    "marks = []\n",
    "bad_students = []\n",
    "\n",
    "with open(path, 'r', encoding = \"utf-8\") as f:\n",
    "    for line in f:\n",
    "        student = line.split('.')\n",
    "        m = int(student[1])\n",
    "        marks.append(m)\n",
    "        if m < 4: \n",
    "            bad_students.append(student[0]+'.')\n",
    "         \n",
    "\n",
    "avg_mark = round(mean(marks), 1)\n",
    "\n",
    "print('Средняя оценка = ',avg_mark)\n",
    "print(bad_students)"
   ]
  },
  {
   "cell_type": "code",
   "execution_count": 6,
   "id": "6ac4d397",
   "metadata": {},
   "outputs": [
    {
     "name": "stdout",
     "output_type": "stream",
     "text": [
      "Лекций: 3\n",
      "Практических: 5\n",
      "Лабораторных: 4\n"
     ]
    }
   ],
   "source": [
    "# Задача 2\n",
    "path_2 = os.path.expanduser(\"~/Desktop/Ex2.txt\")\n",
    "\n",
    "lec_str = 'лек'\n",
    "lab_str = 'лаб'\n",
    "pract_str = 'прак'\n",
    "lec = 0\n",
    "pract = 0\n",
    "lab = 0\n",
    "\n",
    "with open(path_2, 'r', encoding = \"utf-8\") as f:\n",
    "    for line in f:\n",
    "        s = line.split('(')[-1].lower()\n",
    "        if s.startswith(lec_str):\n",
    "            lec +=1\n",
    "        elif s.startswith(lab_str):\n",
    "            lab +=1\n",
    "        elif s.startswith(pract_str):\n",
    "            pract +=1\n",
    "\n",
    "print('Лекций:', lec)\n",
    "print('Практических:', pract)\n",
    "print('Лабораторных:', lab)"
   ]
  },
  {
   "cell_type": "code",
   "execution_count": 5,
   "id": "6e41b05a",
   "metadata": {},
   "outputs": [
    {
     "name": "stdout",
     "output_type": "stream",
     "text": [
      "4G модем.url\n",
      "circle.png\n",
      "Cisco Webex Meetings.lnk\n",
      "desktop.ini\n",
      "Discord.lnk\n",
      "django.txt\n",
      "EaseUS Data Recovery Wizard.lnk\n",
      "Ex1.txt\n",
      "Ex2.txt\n",
      "Ex5.txt\n",
      "L3 HW.ipynb\n",
      "L4 HW.ipynb\n",
      "L5 HW.ipynb\n",
      "Microsoft Teams.lnk\n",
      "python.pdf\n",
      "Screenshot_1.png\n",
      "Screenshot_4.png\n",
      "SpeedFan.lnk\n",
      "Visual Studio 2019.lnk\n",
      "Visual Studio Code.lnk\n",
      "~$,01,2020.docx\n",
      "диаграмма.drawio\n",
      "Документ Microsoft Word (2).docx\n",
      "Документ Microsoft Word (3).docx\n",
      "Документ Microsoft Word (4).docx\n",
      "Документ Microsoft Word.docx\n",
      "Помощник по поддержке и восстановлению (Майкрософт).appref-ms\n",
      "Этот компьютер.lnk\n",
      "Untitled-checkpoint.ipynb\n",
      "awda.json\n",
      "Drag Polar Calculation.exe\n",
      "1.docx\n",
      "Акт приема-передачи № 1.docx\n",
      "Акт приема-передачи №2.docx\n",
      "Акт приема-передачи №3.docx\n",
      "Бланк заказа 1.doc\n",
      "Бланк заказа 2.doc\n",
      "Бланк заказа 3.doc\n",
      "Бланк заказа 4.doc\n",
      "Инвентаризационная опись №1.docx\n"
     ]
    }
   ],
   "source": [
    "# Задача 4 \n",
    "for root, dirs, files in os.walk(\".\"):  \n",
    "    for filename in files:\n",
    "        print(filename)"
   ]
  },
  {
   "cell_type": "code",
   "execution_count": 4,
   "id": "8d0c7e89",
   "metadata": {},
   "outputs": [
    {
     "name": "stdout",
     "output_type": "stream",
     "text": [
      "Часто встречающееся слово:  и\n",
      "Самое большое слово:  храброславленный\n"
     ]
    }
   ],
   "source": [
    "# Задача 5\n",
    "\n",
    "path_5 = os.path.expanduser(\"~/Desktop/Ex5.txt\")\n",
    "\n",
    "with open(path_5, 'r', encoding = 'utf-8') as f:\n",
    "    text = f.read().split()\n",
    "    \n",
    "for index in range(len(text)):\n",
    "     text[index] = text[index].translate({ord(i): None for i in '—,.!|%?-^$:;\\'\"*/'}).lower()\n",
    "\n",
    "word_dict = dict.fromkeys(set(text), 1)\n",
    "word_dict.pop('')\n",
    "\n",
    "for i in range(len(text)):\n",
    "    if word_dict.get(text[i]):\n",
    "        word_dict[text[i]] +=1\n",
    "\n",
    "max_often_word_val = max(word_dict.values())\n",
    "keys = [len(i) for i in word_dict.keys()] \n",
    "max_len_word = max(keys)\n",
    "\n",
    "for k in word_dict:\n",
    "    if word_dict[k] == max_often_word_val:\n",
    "        often_word = k\n",
    "    if len(k) == max_len_word:\n",
    "        big_word = k\n",
    "        \n",
    "# print(text)\n",
    "# print(word_dict)\n",
    "        \n",
    "print('Часто встречающееся слово: ', often_word)\n",
    "print('Самое большое слово: ', big_word)\n"
   ]
  },
  {
   "cell_type": "code",
   "execution_count": null,
   "id": "40789fbd",
   "metadata": {},
   "outputs": [],
   "source": [
    "# Задача 3 \n",
    "@BattleBroccoliBot "
   ]
  }
 ],
 "metadata": {
  "kernelspec": {
   "display_name": "Python 3 (ipykernel)",
   "language": "python",
   "name": "python3"
  },
  "language_info": {
   "codemirror_mode": {
    "name": "ipython",
    "version": 3
   },
   "file_extension": ".py",
   "mimetype": "text/x-python",
   "name": "python",
   "nbconvert_exporter": "python",
   "pygments_lexer": "ipython3",
   "version": "3.10.4"
  }
 },
 "nbformat": 4,
 "nbformat_minor": 5
}
