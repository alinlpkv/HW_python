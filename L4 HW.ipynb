{
 "cells": [
  {
   "cell_type": "code",
   "execution_count": 71,
   "id": "5f127f23",
   "metadata": {},
   "outputs": [
    {
     "name": "stdout",
     "output_type": "stream",
     "text": [
      "4.0\n",
      "2.0\n"
     ]
    }
   ],
   "source": [
    "# Задача 1 - корень\n",
    "def root_func(num, root_num = 2):\n",
    "    return round(pow(num, 1/root_num), 3)\n",
    "\n",
    "print(root_func(16))\n",
    "print(root_func(32, 5))"
   ]
  },
  {
   "cell_type": "code",
   "execution_count": 38,
   "id": "a4edce52",
   "metadata": {},
   "outputs": [
    {
     "name": "stdout",
     "output_type": "stream",
     "text": [
      "I can read this file\n"
     ]
    }
   ],
   "source": [
    "# Задача 2 - расширения\n",
    "file='Моя диссертац.gif'\n",
    "extensions = ['png', 'jpg', 'jpeg', 'gif', 'svg']\n",
    "\n",
    "def check_extension(extention_file, extensions_list):\n",
    "    ex = extention_file.split('.')[-1]\n",
    "    if ex in extensions_list: \n",
    "        print('I can read this file')\n",
    "    else:\n",
    "        print('I can not read this file')\n",
    "        \n",
    "check_extension(file, extensions)"
   ]
  },
  {
   "cell_type": "code",
   "execution_count": 37,
   "id": "5f035a77",
   "metadata": {},
   "outputs": [
    {
     "name": "stdout",
     "output_type": "stream",
     "text": [
      "{1: 10, 2: 20, 3: 30, 4: 40, 5: 50, 6: 60}\n"
     ]
    }
   ],
   "source": [
    "# Задача 3 - три словаря\n",
    "dict_a = {1:10, 2:20}\n",
    "dict_b = {3:30, 4:40}\n",
    "dict_c = {5:50, 6:60}\n",
    "\n",
    "d = {**dict_a, **dict_b, **dict_c}\n",
    "print(d)"
   ]
  },
  {
   "cell_type": "code",
   "execution_count": 42,
   "id": "579272a5",
   "metadata": {},
   "outputs": [
    {
     "name": "stdout",
     "output_type": "stream",
     "text": [
      "sum =  30\n"
     ]
    }
   ],
   "source": [
    "# Задача 4 - сумма цифр числа\n",
    "a = 198237 \n",
    "\n",
    "def sum_num(num):\n",
    "    s = 0\n",
    "    delitel = 10\n",
    "    while num>0:\n",
    "        s += num % 10\n",
    "        num = num // 10\n",
    "    return s\n",
    "\n",
    "print('sum = ', sum_num(a))\n",
    "    "
   ]
  },
  {
   "cell_type": "code",
   "execution_count": 45,
   "id": "522de797",
   "metadata": {},
   "outputs": [
    {
     "name": "stdout",
     "output_type": "stream",
     "text": [
      "Numbers in list are not unique\n"
     ]
    }
   ],
   "source": [
    "# Задача 5 - уникальность чисел\n",
    "numbers=[1,4,5,4]\n",
    "num_set = set(numbers)\n",
    "if len(numbers) == len(num_set):\n",
    "    print('Numbers in list are unique')\n",
    "else:\n",
    "    print('Numbers in list are not unique')"
   ]
  },
  {
   "cell_type": "code",
   "execution_count": 59,
   "id": "db8cab4f",
   "metadata": {},
   "outputs": [
    {
     "name": "stdout",
     "output_type": "stream",
     "text": [
      "Index =  0 Element =  10\n",
      "Index =  1 Element =  11\n",
      "Index =  2 Element =  12\n",
      "Index =  3 Element =  13\n",
      "Index =  4 Element =  14\n",
      "Index =  5 Element =  15\n",
      "Index =  6 Element =  16\n",
      "Index =  7 Element =  17\n",
      "Index =  8 Element =  18\n",
      "Index =  9 Element =  19\n",
      "\n",
      "Index =  0 Element =  я\n",
      "Index =  1 Element =  не\n",
      "Index =  2 Element =  в\n",
      "Index =  3 Element =  отпуск\n"
     ]
    }
   ],
   "source": [
    "# Задача 6 - напечатать элементы списка\n",
    "my_list = [i for i in range(10,20)]\n",
    "\n",
    "def print_list(l):\n",
    "    for index, el in enumerate(l):\n",
    "        print('Index = ', index, 'Element = ', el)\n",
    "        \n",
    "print_list(my_list)\n",
    "\n",
    "print() # Не совсем поняла, что требуется, поэтому 2 варианта\n",
    "        \n",
    "print_list([\"я\", \"не\", \"в\", \"отпуск\" ])\n"
   ]
  },
  {
   "cell_type": "code",
   "execution_count": 60,
   "id": "256e73ad",
   "metadata": {},
   "outputs": [
    {
     "name": "stdout",
     "output_type": "stream",
     "text": [
      "Key =  key1 ; Element =  2\n",
      "Key =  key3 ; Element =  False\n",
      "Key =  Приветствие ; Element =  Hello\n"
     ]
    }
   ],
   "source": [
    "# Задача - печать каждого элемента словаря \n",
    "def print_dict(d):\n",
    "    for key, el in d.items():\n",
    "        print('Key = ', key, '; Element = ', el)   \n",
    "         \n",
    "print_dict({\"key1\": 2, \"key3\": False, \"Приветствие\": \"Hello\"})\n"
   ]
  },
  {
   "cell_type": "code",
   "execution_count": 65,
   "id": "a1275717",
   "metadata": {},
   "outputs": [
    {
     "name": "stdout",
     "output_type": "stream",
     "text": [
      "Key =  key1 ; Element =  1\n",
      "Key =  key2 ; Element =  [1, 2, 3, 4]\n",
      "Key =  key3 ; Element =  Hello\n",
      "Key =  key4 ; Element =  {'ciao': 'Mondo', 'Привет': 'О дивный мир'}\n",
      "\n",
      "Index =  0 Element =  1\n",
      "Index =  1 Element =  2\n",
      "Index =  2 Element =  3\n",
      "Index =  3 Element =  True\n",
      "Index =  4 Element =  4\n",
      "Index =  5 Element =  None\n"
     ]
    }
   ],
   "source": [
    "# Задача - вызов функции в зависисмости от типа объекта\n",
    "def print_overlord(a):\n",
    "    if isinstance(a, list):\n",
    "        print_list(a)\n",
    "    elif isinstance(a, dict):\n",
    "        print_dict(a)\n",
    "    else:\n",
    "        print('I do not know what u want')\n",
    "        \n",
    "print_overlord(dict(key1=1,\n",
    "            key2=[1, 2, 3, 4], \n",
    "            key3='Hello', \n",
    "            key4={\"ciao\":\"Mondo\", \"Привет\": \"О дивный мир\"}))\n",
    "\n",
    "print()\n",
    "print_overlord([1,2,3,True,4, None])"
   ]
  },
  {
   "cell_type": "code",
   "execution_count": 72,
   "id": "d7dee403",
   "metadata": {},
   "outputs": [
    {
     "name": "stdout",
     "output_type": "stream",
     "text": [
      "\n"
     ]
    }
   ],
   "source": [
    "# Темы для разговора \n",
    "print()"
   ]
  },
  {
   "cell_type": "code",
   "execution_count": 76,
   "id": "d4f5beae",
   "metadata": {},
   "outputs": [
    {
     "name": "stdout",
     "output_type": "stream",
     "text": [
      "Тут  |  2.88 %\n",
      "фраза  |  4.81 %\n",
      "с  |  0.96 %\n",
      "пробелами  |  8.65 %\n",
      "и  |  0.96 %\n",
      "я  |  0.96 %\n",
      "хочу  |  3.85 %\n",
      "их  |  1.92 %\n",
      "распечатать  |  10.58 %\n",
      "по  |  1.92 %\n",
      "одному  |  5.77 %\n",
      "на  |  1.92 %\n",
      "строку  |  5.77 %\n",
      "и  |  0.96 %\n",
      "ещё  |  2.88 %\n",
      "посчитать  |  8.65 %\n",
      "слова  |  4.81 %\n",
      "Count of words in the phrase =  17\n"
     ]
    }
   ],
   "source": [
    "def word_count(phrase):\n",
    "    words_list = phrase.split()\n",
    "    weight = len(phrase)\n",
    "    for word in words_list:\n",
    "        print(word, ' | ', round(len(word)*100/weight, 2), '%')\n",
    "    return print('Count of words in the phrase = ',len(words_list))\n",
    "\n",
    "\n",
    "word_count(\"Тут фраза с пробелами и я хочу их распечатать  \\\n",
    "                по одному на строку и ещё посчитать слова\")\n",
    "\n",
    "# print('Text ur phrase:')\n",
    "# user_phrase = input()\n",
    "# word_count(user_phrase)"
   ]
  },
  {
   "cell_type": "code",
   "execution_count": null,
   "id": "e0085296",
   "metadata": {},
   "outputs": [],
   "source": []
  }
 ],
 "metadata": {
  "kernelspec": {
   "display_name": "Python 3 (ipykernel)",
   "language": "python",
   "name": "python3"
  },
  "language_info": {
   "codemirror_mode": {
    "name": "ipython",
    "version": 3
   },
   "file_extension": ".py",
   "mimetype": "text/x-python",
   "name": "python",
   "nbconvert_exporter": "python",
   "pygments_lexer": "ipython3",
   "version": "3.10.4"
  }
 },
 "nbformat": 4,
 "nbformat_minor": 5
}
