{
 "cells": [
  {
   "cell_type": "code",
   "execution_count": 137,
   "id": "a1c2b7ba",
   "metadata": {},
   "outputs": [
    {
     "name": "stdout",
     "output_type": "stream",
     "text": [
      "Alina\n",
      "30\n",
      "5\n",
      "name = LEV, age = 25, group = AAAA\n",
      "name = Ivan, age = 18, group = 10A\n"
     ]
    }
   ],
   "source": [
    "# Задание 1\n",
    "class Student:\n",
    "    def __init__(self, name = 'Ivan', age = 18, groupNumber = '10A'):\n",
    "        self.name = name\n",
    "        self.age = age\n",
    "        self.groupNumber = groupNumber\n",
    "        \n",
    "    def __str__(self):\n",
    "        s = f'name = {self.name}, age = {self.age}, group = {self.groupNumber}'\n",
    "        return s\n",
    "    \n",
    "    def getName(self):\n",
    "        return self.name\n",
    "    \n",
    "    def getAge(self):\n",
    "        return self.age\n",
    "    \n",
    "    def getGroupNumber(self):\n",
    "        return self.groupNumber\n",
    "    \n",
    "    def setNameAge(self, name, age):\n",
    "        self.name = name\n",
    "        self.age = age\n",
    "    \n",
    "    def setGroupNumber(self, groupNumber):\n",
    "        self.groupNumber = str(groupNumber)\n",
    "        \n",
    "\n",
    "student_1 = Student('Alina', 22, '22-11')\n",
    "student_2 = Student('Vika', 30, '11D')\n",
    "student_3 = Student('Misha', 18, '5')\n",
    "student_4 = Student()\n",
    "student_5 = Student()\n",
    "print(student_1.getName())\n",
    "print(student_2.getAge())\n",
    "print(student_3.getGroupNumber())\n",
    "\n",
    "student_4.setNameAge('LEV', 25)\n",
    "student_4.setGroupNumber('AAAA')\n",
    "print(student_4)\n",
    "print(student_5)\n",
    "        "
   ]
  },
  {
   "cell_type": "code",
   "execution_count": 138,
   "id": "f0f06010",
   "metadata": {},
   "outputs": [
    {
     "name": "stdout",
     "output_type": "stream",
     "text": [
      "Автомобиль заведен\n",
      "Автомобиль заглушен\n"
     ]
    }
   ],
   "source": [
    "# Задание 2\n",
    "class Car:\n",
    "    \n",
    "    def __init__(self, color = 'black', type_car = 'sedan', year = 2005):\n",
    "        self.color = color\n",
    "        self.type_car = type_car\n",
    "        self.year = year\n",
    "    \n",
    "    def start(self):\n",
    "        print('Автомобиль заведен')\n",
    "        \n",
    "    def stop(self):\n",
    "        print('Автомобиль заглушен')\n",
    "        \n",
    "    def setYear(self, year):\n",
    "        self.year = year\n",
    "        \n",
    "    def setType(self, type_car):\n",
    "        self.type_car = type_car\n",
    "        \n",
    "    def setColor(self, color):\n",
    "        self.color = color\n",
    "        \n",
    "\n",
    "my_car = Car('red', 'limousine', 2022)\n",
    "my_car.start()\n",
    "my_car.stop()"
   ]
  },
  {
   "cell_type": "code",
   "execution_count": 144,
   "id": "dc984d05",
   "metadata": {},
   "outputs": [
    {
     "name": "stdout",
     "output_type": "stream",
     "text": [
      "Nutrition p 0, c 75, f 0\n",
      "Nutrition p 2, c 54, f 6\n"
     ]
    }
   ],
   "source": [
    "# Задание 3\n",
    "class NutritionInfo:\n",
    "    def __init__(self, proteins, carbs, fats):\n",
    "        self.proteins = proteins\n",
    "        self.carbs = carbs\n",
    "        self.fats = fats\n",
    "    \n",
    "    def __add__(self, other):\n",
    "        return NutritionInfo(self.proteins + other.proteins, self.carbs + other.carbs, self.fats + other.fats)\n",
    "    \n",
    "    def __mul__(self, count):\n",
    "        return NutritionInfo(self.proteins * count, self.carbs * count, self.fats * count)\n",
    "    \n",
    "    def __str__(self):\n",
    "        return f\"Nutrition p {self.proteins}, c {self.carbs}, f {self.fats}\"\n",
    "        \n",
    "    def energy(self):\n",
    "        return int(self.fats * 9 + (self.carbs + self.proteins) * 4.2)\n",
    "    \n",
    "    \n",
    "egg = NutritionInfo(1, 2, 3)\n",
    "pastila = NutritionInfo(1, 2, 3)\n",
    "tvorog_9 = NutritionInfo(18, 3, 9)\n",
    "apple = NutritionInfo(0, 25, 0)\n",
    "\n",
    "breakfast_1 = apple + tvorog_9 + pastila\n",
    "breakfast_2 = apple * 3\n",
    "print(breakfast_2)\n",
    "\n",
    "breakfast_3 = apple*2 + egg*2\n",
    "print(breakfast_3)\n"
   ]
  },
  {
   "cell_type": "code",
   "execution_count": null,
   "id": "a40f2bbc",
   "metadata": {},
   "outputs": [],
   "source": []
  }
 ],
 "metadata": {
  "kernelspec": {
   "display_name": "Python 3 (ipykernel)",
   "language": "python",
   "name": "python3"
  },
  "language_info": {
   "codemirror_mode": {
    "name": "ipython",
    "version": 3
   },
   "file_extension": ".py",
   "mimetype": "text/x-python",
   "name": "python",
   "nbconvert_exporter": "python",
   "pygments_lexer": "ipython3",
   "version": "3.10.4"
  }
 },
 "nbformat": 4,
 "nbformat_minor": 5
}
