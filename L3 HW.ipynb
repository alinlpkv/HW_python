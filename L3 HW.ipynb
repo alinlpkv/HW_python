{
 "cells": [
  {
   "cell_type": "code",
   "execution_count": 3,
   "id": "481d6e62",
   "metadata": {},
   "outputs": [
    {
     "name": "stdout",
     "output_type": "stream",
     "text": [
      "What's number of the month?\n",
      "5\n",
      "Today is the  May\n"
     ]
    }
   ],
   "source": [
    "# Задача 1 - какой месяц\n",
    "months = [\"January\", \"February\", \"March\", \"April\", \n",
    "          \"May\", \"June\", \"July\", \"August\", \"September\", \n",
    "          \"October\", \"November\", \"December\"]\n",
    "dict_months = {k: num for k, num in zip(range(1,13), months)}\n",
    "\n",
    "print('What\\'s number of the month?')\n",
    "num_month = int(input())\n",
    "\n",
    "print('Today is the ', dict_months[num_month])"
   ]
  },
  {
   "cell_type": "code",
   "execution_count": 10,
   "id": "1e8e826f",
   "metadata": {},
   "outputs": [
    {
     "name": "stdout",
     "output_type": "stream",
     "text": [
      "НОД =  4\n"
     ]
    }
   ],
   "source": [
    "# Задача 2 - НОД\n",
    "a = 600\n",
    "b = 1012\n",
    "\n",
    "max_num = max(a,b)\n",
    "min_num = min(a,b)\n",
    "\n",
    "while min_num > 0:\n",
    "    ostatok = max_num % min_num\n",
    "    max_num, min_num = min_num, ostatok\n",
    "\n",
    "print('НОД = ',max_num)"
   ]
  },
  {
   "cell_type": "code",
   "execution_count": 13,
   "id": "7b157613",
   "metadata": {},
   "outputs": [
    {
     "name": "stdout",
     "output_type": "stream",
     "text": [
      "I can read this file\n"
     ]
    }
   ],
   "source": [
    "# Задача 3 - проверка расширения файла\n",
    "file='Моя диссертац.gif'\n",
    "extensions = ['png', 'jpg', 'jpeg', 'gif', 'svg']\n",
    "\n",
    "extention_file = file.split('.')[-1]\n",
    "if extention_file in extensions: \n",
    "    print('I can read this file')\n",
    "else:\n",
    "    print('I can not read this file')"
   ]
  },
  {
   "cell_type": "code",
   "execution_count": 32,
   "id": "d5937fb8",
   "metadata": {},
   "outputs": [
    {
     "name": "stdout",
     "output_type": "stream",
     "text": [
      "The year is not leap\n"
     ]
    }
   ],
   "source": [
    "# Задача 4 - високосный год \n",
    "year = 2022\n",
    "\n",
    "if (year % 400) == 0:\n",
    "    print('The year is leap')\n",
    "elif (year % 100) == 0:\n",
    "    print('The year is not leap')\n",
    "elif (year % 4) == 0:\n",
    "    print('The year is leap')\n",
    "else:\n",
    "    print('The year is not leap')"
   ]
  },
  {
   "cell_type": "code",
   "execution_count": null,
   "id": "af96cae1",
   "metadata": {},
   "outputs": [],
   "source": []
  }
 ],
 "metadata": {
  "kernelspec": {
   "display_name": "Python 3 (ipykernel)",
   "language": "python",
   "name": "python3"
  },
  "language_info": {
   "codemirror_mode": {
    "name": "ipython",
    "version": 3
   },
   "file_extension": ".py",
   "mimetype": "text/x-python",
   "name": "python",
   "nbconvert_exporter": "python",
   "pygments_lexer": "ipython3",
   "version": "3.10.4"
  }
 },
 "nbformat": 4,
 "nbformat_minor": 5
}
