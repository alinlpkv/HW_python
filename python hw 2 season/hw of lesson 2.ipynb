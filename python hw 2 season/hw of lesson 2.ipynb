{
 "cells": [
  {
   "cell_type": "code",
   "execution_count": 1,
   "id": "bfda3215",
   "metadata": {},
   "outputs": [],
   "source": [
    "import pandas as pd\n",
    "from sklearn import datasets, linear_model, model_selection\n",
    "from sklearn.metrics import mean_squared_error, r2_score, confusion_matrix"
   ]
  },
  {
   "cell_type": "code",
   "execution_count": 2,
   "id": "43dd9300",
   "metadata": {},
   "outputs": [],
   "source": [
    "def create_and_fit_model(data, x_name_column, y_name_column):\n",
    "    df_in = data[x_name_column]\n",
    "    df_out = data[y_name_column].apply(lambda x: int(x == data[y_name_column].iloc[0]))\n",
    "    print(data[y_name_column].iloc[0], ' = 1')\n",
    "    \n",
    "    x_train, x_test, y_train, y_test = model_selection.train_test_split(df_in, df_out, test_size=0.2)\n",
    "    \n",
    "    model = linear_model.LogisticRegression()\n",
    "    model.fit(x_train, y_train)\n",
    "    \n",
    "    y_test_predicted = model.predict(x_test)\n",
    "    \n",
    "    [tn, fp], [fn, tp] = confusion_matrix(y_test, y_test_predicted)\n",
    "    print(f'Accuracy: {(tn + tp) / (tp + fp + tn + fn)}')\n",
    "    \n",
    "    return model"
   ]
  },
  {
   "cell_type": "code",
   "execution_count": 3,
   "id": "ef952fd5",
   "metadata": {},
   "outputs": [
    {
     "name": "stdout",
     "output_type": "stream",
     "text": [
      "Male  = 1\n",
      "Accuracy: 0.8588709677419355\n"
     ]
    }
   ],
   "source": [
    "# FIRST MODEL\n",
    "\n",
    "path = 'data/athletes_sochi.txt'\n",
    "data = pd.read_csv(path).dropna()\n",
    "data['BMI'] = data[\"weight\"] / (data[\"height\"]**2)\n",
    "\n",
    "first_model = create_and_fit_model(data, ['weight', 'height', 'BMI'], 'gender')"
   ]
  },
  {
   "cell_type": "code",
   "execution_count": 4,
   "id": "f49f6aea",
   "metadata": {},
   "outputs": [
    {
     "name": "stdout",
     "output_type": "stream",
     "text": [
      "Male  = 1\n",
      "Accuracy: 0.8810483870967742\n"
     ]
    }
   ],
   "source": [
    "# SECOND MODEL with feature'age'\n",
    "\n",
    "path = 'data/athletes_sochi.txt'\n",
    "data = pd.read_csv(path).dropna()\n",
    "data['BMI'] = data[\"weight\"] / (data[\"height\"]**2)\n",
    "\n",
    "second_model = create_and_fit_model(data, ['age', 'weight', 'height', 'BMI'], 'gender')"
   ]
  },
  {
   "cell_type": "code",
   "execution_count": 5,
   "id": "bc893dad",
   "metadata": {},
   "outputs": [],
   "source": [
    "# the difference between the accuracy of the first model and the second model is 0.025\n",
    "# it's 2,5%"
   ]
  },
  {
   "cell_type": "code",
   "execution_count": 10,
   "id": "4420c9d2",
   "metadata": {},
   "outputs": [],
   "source": [
    "def my_result(model, my_values):\n",
    "    result = model.predict([my_values])\n",
    "    print(f'Your sex = {result[0]}')\n"
   ]
  },
  {
   "cell_type": "code",
   "execution_count": 12,
   "id": "641a0d8a",
   "metadata": {},
   "outputs": [
    {
     "name": "stdout",
     "output_type": "stream",
     "text": [
      "Your sex = 0\n",
      "Your sex = 0\n"
     ]
    },
    {
     "name": "stderr",
     "output_type": "stream",
     "text": [
      "C:\\Users\\Dell G7\\AppData\\Local\\Programs\\Python\\Python310\\lib\\site-packages\\sklearn\\base.py:420: UserWarning: X does not have valid feature names, but LogisticRegression was fitted with feature names\n",
      "  warnings.warn(\n",
      "C:\\Users\\Dell G7\\AppData\\Local\\Programs\\Python\\Python310\\lib\\site-packages\\sklearn\\base.py:420: UserWarning: X does not have valid feature names, but LogisticRegression was fitted with feature names\n",
      "  warnings.warn(\n"
     ]
    }
   ],
   "source": [
    "myH = 1.7\n",
    "myW = 55\n",
    "myBMI = myW/(myH**2)\n",
    "myAge = 22\n",
    "\n",
    "\n",
    "my_result(first_model, [myW, myH, myBMI])\n",
    "my_result(second_model, [myAge, myW, myH, myBMI])\n"
   ]
  },
  {
   "cell_type": "code",
   "execution_count": null,
   "id": "0510c113",
   "metadata": {},
   "outputs": [],
   "source": []
  }
 ],
 "metadata": {
  "kernelspec": {
   "display_name": "Python 3 (ipykernel)",
   "language": "python",
   "name": "python3"
  },
  "language_info": {
   "codemirror_mode": {
    "name": "ipython",
    "version": 3
   },
   "file_extension": ".py",
   "mimetype": "text/x-python",
   "name": "python",
   "nbconvert_exporter": "python",
   "pygments_lexer": "ipython3",
   "version": "3.10.4"
  }
 },
 "nbformat": 4,
 "nbformat_minor": 5
}
