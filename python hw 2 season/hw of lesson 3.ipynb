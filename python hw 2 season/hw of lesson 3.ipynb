{
 "cells": [
  {
   "cell_type": "code",
   "execution_count": 1,
   "id": "92af72c8",
   "metadata": {},
   "outputs": [],
   "source": [
    "import pandas as pd\n",
    "import numpy as np\n",
    "from sklearn import model_selection, tree, svm\n",
    "from sklearn.preprocessing import StandardScaler\n",
    "from sklearn.ensemble import RandomForestClassifier\n",
    "from sklearn import model_selection, metrics\n"
   ]
  },
  {
   "cell_type": "code",
   "execution_count": 2,
   "id": "5998b6bc",
   "metadata": {},
   "outputs": [],
   "source": [
    "# Подготовка данных \n",
    "\n",
    "path = 'data/DataSet_w_NA.xlsx'\n",
    "df = pd.read_excel(path, sheet_name='Испорченные факты').dropna()\n",
    "\n",
    "\n",
    "df = pd.pivot_table(df, values=['Продажи, руб', 'Продажи, шт','Повторение заказа', 'Маржинальная прибыль','Повторение товара'],\n",
    "                    index=[\"Факты.Товар ID\"], aggfunc={'Продажи, шт': [np.median, np.sum], 'Продажи, руб': np.sum, \n",
    "                                                       'Повторение заказа': np.sum, 'Маржинальная прибыль': np.sum})\n",
    "df.columns = df.columns.map('_'.join)\n",
    "df = df.reset_index()\n",
    "\n",
    "total_sale = df['Продажи, руб_sum'].sum()\n",
    "df['Доля'] = df['Продажи, руб_sum'] / total_sale * 100\n",
    "df = df.assign(sum_d=df['Доля'].cumsum())\n",
    "\n",
    "df.loc[(df['sum_d'] <= 80), 'ABC'] = 'A'\n",
    "df.loc[(df['sum_d'] > 80) & (df['sum_d'] <= 95), 'ABC'] = 'B'\n",
    "df.loc[(df['sum_d'] > 95), 'ABC'] = 'C'"
   ]
  },
  {
   "cell_type": "code",
   "execution_count": 3,
   "id": "8b999ce4",
   "metadata": {},
   "outputs": [],
   "source": [
    "def model_job(model, df_in, df_out, name_of_mo):\n",
    "    \n",
    "    x_train, x_test, y_train, y_test = model_selection.train_test_split(df_in, df_out, test_size=0.3, stratify=df_out)\n",
    "    \n",
    "    ss = StandardScaler()\n",
    "    x_train = ss.fit_transform(x_train)\n",
    "    x_test = ss.transform(x_test)\n",
    "    \n",
    "    model.fit(x_train, y_train)\n",
    "    y_test_predicted = model.predict(x_test)\n",
    "    \n",
    "    df_res = pd.DataFrame({'y_test': y_test,\n",
    "                          'y_test_predicted': y_test_predicted})\n",
    "    \n",
    "    df_res.loc[(df_res['y_test'] != df_res['y_test_predicted']), 'Изменение класса'] = 1\n",
    "    df_res.loc[(df_res['y_test'] == df_res['y_test_predicted']), 'Изменение класса'] = 0\n",
    "    \n",
    "    print(name_of_mo, 'не правильно предсказано: ',  df_res['Изменение класса'].sum(), '/', len(df_res))\n",
    "    print(\"Accuracy:\", metrics.accuracy_score(y_test, y_test_predicted))\n",
    "#     print(df_res.to_string())\n",
    "    \n",
    "    "
   ]
  },
  {
   "cell_type": "code",
   "execution_count": 4,
   "id": "3966291c",
   "metadata": {},
   "outputs": [],
   "source": [
    "\n",
    "df_in = df.drop(['Факты.Товар ID','ABC'], axis=1)\n",
    "df_out = df.ABC\n"
   ]
  },
  {
   "cell_type": "code",
   "execution_count": 9,
   "id": "686d80a9",
   "metadata": {},
   "outputs": [
    {
     "name": "stdout",
     "output_type": "stream",
     "text": [
      "Random Forest Classifier не правильно предсказано:  1.0 / 559\n",
      "Accuracy: 0.998211091234347\n"
     ]
    }
   ],
   "source": [
    "model_job(RandomForestClassifier(), df_in, df_out, 'Random Forest Classifier')"
   ]
  },
  {
   "cell_type": "code",
   "execution_count": 13,
   "id": "c5c5467e",
   "metadata": {},
   "outputs": [
    {
     "name": "stdout",
     "output_type": "stream",
     "text": [
      "Decision Tree Classifier не правильно предсказано:  0.0 / 559\n",
      "Accuracy: 1.0\n"
     ]
    }
   ],
   "source": [
    "model_job(tree.DecisionTreeClassifier(), df_in, df_out, 'Decision Tree Classifier')"
   ]
  },
  {
   "cell_type": "code",
   "execution_count": 14,
   "id": "6dd57026",
   "metadata": {},
   "outputs": [
    {
     "name": "stdout",
     "output_type": "stream",
     "text": [
      "Support Vector Machine не правильно предсказано:  28.0 / 559\n",
      "Accuracy: 0.9499105545617174\n"
     ]
    }
   ],
   "source": [
    "model_job(svm.SVC(), df_in, df_out, 'Support Vector Machine')"
   ]
  },
  {
   "cell_type": "code",
   "execution_count": null,
   "id": "1239d505",
   "metadata": {},
   "outputs": [],
   "source": []
  }
 ],
 "metadata": {
  "kernelspec": {
   "display_name": "Python 3 (ipykernel)",
   "language": "python",
   "name": "python3"
  },
  "language_info": {
   "codemirror_mode": {
    "name": "ipython",
    "version": 3
   },
   "file_extension": ".py",
   "mimetype": "text/x-python",
   "name": "python",
   "nbconvert_exporter": "python",
   "pygments_lexer": "ipython3",
   "version": "3.10.4"
  }
 },
 "nbformat": 4,
 "nbformat_minor": 5
}
