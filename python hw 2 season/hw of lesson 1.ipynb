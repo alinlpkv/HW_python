{
 "cells": [
  {
   "cell_type": "code",
   "execution_count": null,
   "id": "d86fb90c",
   "metadata": {},
   "outputs": [],
   "source": [
    "# Задача 1 Связанные списки\n",
    "# Напишите функцию (пусть онабудет называться reverse_linked_list), которая разворачивает связный список. \n",
    "# На вход она принимает головную ноду, а на выход отдаёт хвостовую ноду исходного списка, но только теперь \n",
    "# если попробовать пройтись по ней, она будет новой головной."
   ]
  },
  {
   "cell_type": "code",
   "execution_count": 13,
   "id": "49e1adb5",
   "metadata": {},
   "outputs": [],
   "source": [
    "class Node(object):\n",
    "    def __init__(self, value=None, next_node=None):\n",
    "        self.value = value\n",
    "        self.next = next_node\n",
    "\n",
    "    def __str__(self):\n",
    "        return f\"[Node with value {self.value}]\"\n",
    "\n",
    "\n",
    "def print_linked_list(head):\n",
    "    cur = head\n",
    "    while cur is not None:\n",
    "        print(cur)\n",
    "        cur = cur.next"
   ]
  },
  {
   "cell_type": "code",
   "execution_count": 2,
   "id": "b9f02733",
   "metadata": {
    "scrolled": true
   },
   "outputs": [
    {
     "name": "stdout",
     "output_type": "stream",
     "text": [
      "[Node with value 1]\n",
      "[Node with value 2]\n",
      "[Node with value 3]\n",
      "[Node with value Внезапно]\n",
      "[Node with value 5]\n"
     ]
    }
   ],
   "source": [
    "h, a, b, c, d = Node(1), Node(2), Node(3), Node(\"Внезапно\"), Node(5)\n",
    "\n",
    "h.next = a\n",
    "a.next = b\n",
    "b.next = c\n",
    "c.next = d\n",
    "\n",
    "print_linked_list(h)"
   ]
  },
  {
   "cell_type": "code",
   "execution_count": 155,
   "id": "51f5d880",
   "metadata": {},
   "outputs": [],
   "source": [
    "def reverse_linked_list(head):\n",
    "    tail = None\n",
    "    while head:\n",
    "        head.next, tail, head = tail, head, head.next\n",
    "    return tail    "
   ]
  },
  {
   "cell_type": "code",
   "execution_count": 159,
   "id": "e884aede",
   "metadata": {},
   "outputs": [
    {
     "name": "stdout",
     "output_type": "stream",
     "text": [
      "[Node with value 1]\n",
      "[Node with value 2]\n",
      "[Node with value 3]\n",
      "[Node with value Внезапно]\n",
      "[Node with value 5]\n",
      "---\n",
      "[Node with value 5]\n",
      "[Node with value 5]\n",
      "[Node with value Внезапно]\n",
      "[Node with value 3]\n",
      "[Node with value 2]\n",
      "[Node with value 1]\n"
     ]
    }
   ],
   "source": [
    "print_linked_list(h)\n",
    "h = reverse_linked_list(h)\n",
    "print(\"---\")\n",
    "print(h)\n",
    "print_linked_list(h)"
   ]
  },
  {
   "cell_type": "code",
   "execution_count": 42,
   "id": "e81ff414",
   "metadata": {},
   "outputs": [
    {
     "name": "stdout",
     "output_type": "stream",
     "text": [
      "[Node with value 8]\n",
      "[Node with value 6]\n",
      "[Node with value 5]\n",
      "[Node with value 7]\n",
      "[Node with value 3]\n",
      "[Node with value 1]\n",
      "---\n",
      "[Node with value 1]\n",
      "[Node with value 3]\n",
      "[Node with value 5]\n",
      "[Node with value 6]\n",
      "[Node with value 7]\n",
      "[Node with value 8]\n"
     ]
    }
   ],
   "source": [
    "# Задача 2 Пузырьки\n",
    "k, l, m, t, x, y = Node(8), Node(6), Node(5), Node(7), Node(3), Node(1)\n",
    "\n",
    "k.next = l\n",
    "l.next = m\n",
    "m.next = t\n",
    "t.next = x\n",
    "x.next = y\n",
    "\n",
    "\n",
    "\n",
    "print_linked_list(k)\n",
    "print('---')\n",
    "\n",
    "def sort_linked_list(head):\n",
    "    head_ = head\n",
    "    cur = head\n",
    "    flag = True\n",
    "    while flag > 0:\n",
    "        flag = 0\n",
    "        head = head_\n",
    "        while head:\n",
    "            if head.next is None:\n",
    "                break\n",
    "            if head.value > head.next.value:\n",
    "                flag += 1\n",
    "#                 min_v = head.next.value\n",
    "#                 max_v = head.value\n",
    "                head.value, head.next.value, head = head.next.value, head.value, head.next\n",
    "            else:\n",
    "                head = head.next\n",
    "    return head_\n",
    "\n",
    "k = sort_linked_list(k)\n",
    "\n",
    "print_linked_list(k)"
   ]
  },
  {
   "cell_type": "code",
   "execution_count": 28,
   "id": "7141dbd9",
   "metadata": {},
   "outputs": [
    {
     "data": {
      "text/plain": [
       "2"
      ]
     },
     "execution_count": 28,
     "metadata": {},
     "output_type": "execute_result"
    }
   ],
   "source": [
    "head = h \n",
    "head.next.value\n"
   ]
  },
  {
   "cell_type": "code",
   "execution_count": 158,
   "id": "9ff39d7b",
   "metadata": {},
   "outputs": [
    {
     "data": {
      "text/plain": [
       "11.386666666666668"
      ]
     },
     "execution_count": 158,
     "metadata": {},
     "output_type": "execute_result"
    }
   ],
   "source": [
    "# Задача 3 Pandas\n",
    "# Выясните, сколько в среднем выходит полный счёт по пятницам на ланч у курящих мужчин (датасет tips)\n",
    "import pandas as pd\n",
    "\n",
    "path = 'data/tips.csv'\n",
    "df = pd.read_csv(path)\n",
    "df_filter = df[(df['sex'] == 'Male') & (df['time'] == 'Lunch') & (df['smoker'] == 'Yes') & (df['day'] == 'Fri')]\n",
    "df_filter.total_bill.mean()"
   ]
  },
  {
   "cell_type": "code",
   "execution_count": 59,
   "id": "d8bbfecb",
   "metadata": {},
   "outputs": [
    {
     "data": {
      "text/html": [
       "<div>\n",
       "<style scoped>\n",
       "    .dataframe tbody tr th:only-of-type {\n",
       "        vertical-align: middle;\n",
       "    }\n",
       "\n",
       "    .dataframe tbody tr th {\n",
       "        vertical-align: top;\n",
       "    }\n",
       "\n",
       "    .dataframe thead tr th {\n",
       "        text-align: left;\n",
       "    }\n",
       "\n",
       "    .dataframe thead tr:last-of-type th {\n",
       "        text-align: right;\n",
       "    }\n",
       "</style>\n",
       "<table border=\"1\" class=\"dataframe\">\n",
       "  <thead>\n",
       "    <tr>\n",
       "      <th></th>\n",
       "      <th colspan=\"2\" halign=\"left\">SepalLength</th>\n",
       "      <th colspan=\"2\" halign=\"left\">SepalWidth</th>\n",
       "      <th colspan=\"2\" halign=\"left\">PetalLength</th>\n",
       "      <th colspan=\"2\" halign=\"left\">PetalWidth</th>\n",
       "    </tr>\n",
       "    <tr>\n",
       "      <th></th>\n",
       "      <th>max</th>\n",
       "      <th>min</th>\n",
       "      <th>max</th>\n",
       "      <th>min</th>\n",
       "      <th>max</th>\n",
       "      <th>min</th>\n",
       "      <th>max</th>\n",
       "      <th>min</th>\n",
       "    </tr>\n",
       "    <tr>\n",
       "      <th>Name</th>\n",
       "      <th></th>\n",
       "      <th></th>\n",
       "      <th></th>\n",
       "      <th></th>\n",
       "      <th></th>\n",
       "      <th></th>\n",
       "      <th></th>\n",
       "      <th></th>\n",
       "    </tr>\n",
       "  </thead>\n",
       "  <tbody>\n",
       "    <tr>\n",
       "      <th>Iris-setosa</th>\n",
       "      <td>5.8</td>\n",
       "      <td>4.3</td>\n",
       "      <td>4.4</td>\n",
       "      <td>2.3</td>\n",
       "      <td>1.9</td>\n",
       "      <td>1.0</td>\n",
       "      <td>0.6</td>\n",
       "      <td>0.1</td>\n",
       "    </tr>\n",
       "    <tr>\n",
       "      <th>Iris-versicolor</th>\n",
       "      <td>7.0</td>\n",
       "      <td>4.9</td>\n",
       "      <td>3.4</td>\n",
       "      <td>2.0</td>\n",
       "      <td>5.1</td>\n",
       "      <td>3.0</td>\n",
       "      <td>1.8</td>\n",
       "      <td>1.0</td>\n",
       "    </tr>\n",
       "    <tr>\n",
       "      <th>Iris-virginica</th>\n",
       "      <td>7.9</td>\n",
       "      <td>4.9</td>\n",
       "      <td>3.8</td>\n",
       "      <td>2.2</td>\n",
       "      <td>6.9</td>\n",
       "      <td>4.5</td>\n",
       "      <td>2.5</td>\n",
       "      <td>1.4</td>\n",
       "    </tr>\n",
       "  </tbody>\n",
       "</table>\n",
       "</div>"
      ],
      "text/plain": [
       "                SepalLength      SepalWidth      PetalLength      PetalWidth  \\\n",
       "                        max  min        max  min         max  min        max   \n",
       "Name                                                                           \n",
       "Iris-setosa             5.8  4.3        4.4  2.3         1.9  1.0        0.6   \n",
       "Iris-versicolor         7.0  4.9        3.4  2.0         5.1  3.0        1.8   \n",
       "Iris-virginica          7.9  4.9        3.8  2.2         6.9  4.5        2.5   \n",
       "\n",
       "                      \n",
       "                 min  \n",
       "Name                  \n",
       "Iris-setosa      0.1  \n",
       "Iris-versicolor  1.0  \n",
       "Iris-virginica   1.4  "
      ]
     },
     "execution_count": 59,
     "metadata": {},
     "output_type": "execute_result"
    }
   ],
   "source": [
    "# Загрузите iris и посмотрите разбросы по всем числовым значениям для всех трёх классов цветов (датасет iris)\n",
    "path = 'data/iris.csv'\n",
    "df = pd.read_csv(path)\n",
    "df.groupby('Name').agg({'SepalLength' : ['max', 'min'],\n",
    "                       'SepalWidth' : ['max', 'min'],\n",
    "                       'PetalLength' : ['max', 'min'],\n",
    "                       'PetalWidth' : ['max', 'min']\n",
    "                       })"
   ]
  },
  {
   "cell_type": "code",
   "execution_count": 68,
   "id": "69214991",
   "metadata": {},
   "outputs": [
    {
     "data": {
      "text/html": [
       "<div>\n",
       "<style scoped>\n",
       "    .dataframe tbody tr th:only-of-type {\n",
       "        vertical-align: middle;\n",
       "    }\n",
       "\n",
       "    .dataframe tbody tr th {\n",
       "        vertical-align: top;\n",
       "    }\n",
       "\n",
       "    .dataframe thead th {\n",
       "        text-align: right;\n",
       "    }\n",
       "</style>\n",
       "<table border=\"1\" class=\"dataframe\">\n",
       "  <thead>\n",
       "    <tr style=\"text-align: right;\">\n",
       "      <th></th>\n",
       "      <th>страна</th>\n",
       "      <th>population</th>\n",
       "      <th>площадь</th>\n",
       "      <th>density</th>\n",
       "    </tr>\n",
       "  </thead>\n",
       "  <tbody>\n",
       "    <tr>\n",
       "      <th>0</th>\n",
       "      <td>Kazakhstan</td>\n",
       "      <td>17.04</td>\n",
       "      <td>2724902</td>\n",
       "      <td>0.000006</td>\n",
       "    </tr>\n",
       "    <tr>\n",
       "      <th>1</th>\n",
       "      <td>Russia</td>\n",
       "      <td>143.50</td>\n",
       "      <td>17125191</td>\n",
       "      <td>0.000008</td>\n",
       "    </tr>\n",
       "    <tr>\n",
       "      <th>2</th>\n",
       "      <td>Belarus</td>\n",
       "      <td>9.50</td>\n",
       "      <td>207600</td>\n",
       "      <td>0.000046</td>\n",
       "    </tr>\n",
       "    <tr>\n",
       "      <th>3</th>\n",
       "      <td>Ukraine</td>\n",
       "      <td>45.50</td>\n",
       "      <td>603628</td>\n",
       "      <td>0.000075</td>\n",
       "    </tr>\n",
       "  </tbody>\n",
       "</table>\n",
       "</div>"
      ],
      "text/plain": [
       "       страна  population   площадь   density\n",
       "0  Kazakhstan       17.04   2724902  0.000006\n",
       "1      Russia      143.50  17125191  0.000008\n",
       "2     Belarus        9.50    207600  0.000046\n",
       "3     Ukraine       45.50    603628  0.000075"
      ]
     },
     "execution_count": 68,
     "metadata": {},
     "output_type": "execute_result"
    }
   ],
   "source": [
    "# Создайте новый столбец с плотностью населения. Переименуйте названия первого и третьего столбца на русский язык\n",
    "df = pd.DataFrame({\n",
    "     'country': ['Kazakhstan', 'Russia', 'Belarus', 'Ukraine'],\n",
    "     'population': [17.04, 143.5, 9.5, 45.5],\n",
    "     'square': [2724902, 17125191, 207600, 603628]\n",
    " })\n",
    "df['density'] = df['population']/df['square']\n",
    "df.rename(columns={'country' : 'страна', 'square' : 'площадь'}, inplace=True)\n",
    "df"
   ]
  }
 ],
 "metadata": {
  "kernelspec": {
   "display_name": "Python 3 (ipykernel)",
   "language": "python",
   "name": "python3"
  },
  "language_info": {
   "codemirror_mode": {
    "name": "ipython",
    "version": 3
   },
   "file_extension": ".py",
   "mimetype": "text/x-python",
   "name": "python",
   "nbconvert_exporter": "python",
   "pygments_lexer": "ipython3",
   "version": "3.10.4"
  }
 },
 "nbformat": 4,
 "nbformat_minor": 5
}
